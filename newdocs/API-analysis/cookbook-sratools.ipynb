{
 "cells": [
  {
   "cell_type": "markdown",
   "metadata": {},
   "source": [
    "# <span style=\"color:gray\">ipyrad-analysis toolkit:</span> sratools"
   ]
  },
  {
   "cell_type": "markdown",
   "metadata": {},
   "source": [
    "For reproducibility purposes, it is nice to be able to download the raw data for your analysis from an online repository like NCBI with a simple script at the top of your notebook. We've written a simple wrapper for the sratools command line program (which is notoriously difficult to use and poorly documented) to try to make this easier to do. "
   ]
  },
  {
   "cell_type": "markdown",
   "metadata": {},
   "source": [
    "### Required software"
   ]
  },
  {
   "cell_type": "code",
   "execution_count": 1,
   "metadata": {},
   "outputs": [],
   "source": [
    "# conda install ipyrad -c conda-forge -c bioconda \n",
    "# conda install sratools -c bioconda"
   ]
  },
  {
   "cell_type": "code",
   "execution_count": 2,
   "metadata": {},
   "outputs": [],
   "source": [
    "import ipyrad.analysis as ipa"
   ]
  },
  {
   "cell_type": "markdown",
   "metadata": {},
   "source": [
    "### Fetch info for a published data set by its accession ID\n",
    "You can find the study ID or individual sample IDs from published papers or by searching the NCBI or related databases. ipyrad can take as input one or more accessions IDs for individual Runs or Studies (SRR or SRP, and similarly ERR or ERP, etc.). \n"
   ]
  },
  {
   "cell_type": "code",
   "execution_count": 3,
   "metadata": {},
   "outputs": [],
   "source": [
    "# init sratools object with an accessions argument\n",
    "sra = ipa.sratools(accessions=\"SRP065788\")"
   ]
  },
  {
   "cell_type": "code",
   "execution_count": 4,
   "metadata": {},
   "outputs": [
    {
     "name": "stdout",
     "output_type": "stream",
     "text": [
      "\r",
      "Fetching project data..."
     ]
    }
   ],
   "source": [
    "# fetch info for all samples from this study, save as a dataframe\n",
    "stable = sra.fetch_runinfo()\n"
   ]
  },
  {
   "cell_type": "code",
   "execution_count": 5,
   "metadata": {
    "scrolled": false
   },
   "outputs": [
    {
     "data": {
      "text/html": [
       "<div>\n",
       "<style scoped>\n",
       "    .dataframe tbody tr th:only-of-type {\n",
       "        vertical-align: middle;\n",
       "    }\n",
       "\n",
       "    .dataframe tbody tr th {\n",
       "        vertical-align: top;\n",
       "    }\n",
       "\n",
       "    .dataframe thead th {\n",
       "        text-align: right;\n",
       "    }\n",
       "</style>\n",
       "<table border=\"1\" class=\"dataframe\">\n",
       "  <thead>\n",
       "    <tr style=\"text-align: right;\">\n",
       "      <th></th>\n",
       "      <th>Run</th>\n",
       "      <th>ReleaseDate</th>\n",
       "      <th>LoadDate</th>\n",
       "      <th>spots</th>\n",
       "      <th>bases</th>\n",
       "      <th>spots_with_mates</th>\n",
       "      <th>avgLength</th>\n",
       "      <th>size_MB</th>\n",
       "      <th>AssemblyName</th>\n",
       "      <th>download_path</th>\n",
       "      <th>...</th>\n",
       "      <th>SRAStudy</th>\n",
       "      <th>BioProject</th>\n",
       "      <th>Study_Pubmed_id</th>\n",
       "      <th>ProjectID</th>\n",
       "      <th>Sample</th>\n",
       "      <th>BioSample</th>\n",
       "      <th>SampleType</th>\n",
       "      <th>TaxID</th>\n",
       "      <th>ScientificName</th>\n",
       "      <th>SampleName</th>\n",
       "    </tr>\n",
       "  </thead>\n",
       "  <tbody>\n",
       "    <tr>\n",
       "      <th>0</th>\n",
       "      <td>SRR2895732</td>\n",
       "      <td>2015-11-04 15:50:01</td>\n",
       "      <td>2015-11-04 17:19:15</td>\n",
       "      <td>2009174</td>\n",
       "      <td>182834834</td>\n",
       "      <td>0</td>\n",
       "      <td>91</td>\n",
       "      <td>116</td>\n",
       "      <td>NaN</td>\n",
       "      <td>https://sra-download.ncbi.nlm.nih.gov/sos/sra-...</td>\n",
       "      <td>...</td>\n",
       "      <td>SRP065788</td>\n",
       "      <td>PRJNA299402</td>\n",
       "      <td>NaN</td>\n",
       "      <td>299402</td>\n",
       "      <td>SRS1146158</td>\n",
       "      <td>SAMN04202163</td>\n",
       "      <td>simple</td>\n",
       "      <td>224736</td>\n",
       "      <td>Viburnum betulifolium</td>\n",
       "      <td>Lib1_betulifolium</td>\n",
       "    </tr>\n",
       "    <tr>\n",
       "      <th>1</th>\n",
       "      <td>SRR2895743</td>\n",
       "      <td>2015-11-04 15:50:01</td>\n",
       "      <td>2015-11-04 17:18:35</td>\n",
       "      <td>2452970</td>\n",
       "      <td>223220270</td>\n",
       "      <td>0</td>\n",
       "      <td>91</td>\n",
       "      <td>140</td>\n",
       "      <td>NaN</td>\n",
       "      <td>https://sra-download.ncbi.nlm.nih.gov/sos/sra-...</td>\n",
       "      <td>...</td>\n",
       "      <td>SRP065788</td>\n",
       "      <td>PRJNA299402</td>\n",
       "      <td>NaN</td>\n",
       "      <td>299402</td>\n",
       "      <td>SRS1146171</td>\n",
       "      <td>SAMN04202164</td>\n",
       "      <td>simple</td>\n",
       "      <td>1220044</td>\n",
       "      <td>Viburnum bitchiuense</td>\n",
       "      <td>Lib1_bitchiuense_combined</td>\n",
       "    </tr>\n",
       "    <tr>\n",
       "      <th>2</th>\n",
       "      <td>SRR2895755</td>\n",
       "      <td>2015-11-04 15:50:01</td>\n",
       "      <td>2015-11-04 17:18:46</td>\n",
       "      <td>4640732</td>\n",
       "      <td>422306612</td>\n",
       "      <td>0</td>\n",
       "      <td>91</td>\n",
       "      <td>264</td>\n",
       "      <td>NaN</td>\n",
       "      <td>https://sra-download.ncbi.nlm.nih.gov/sos/sra-...</td>\n",
       "      <td>...</td>\n",
       "      <td>SRP065788</td>\n",
       "      <td>PRJNA299402</td>\n",
       "      <td>NaN</td>\n",
       "      <td>299402</td>\n",
       "      <td>SRS1146182</td>\n",
       "      <td>SAMN04202165</td>\n",
       "      <td>simple</td>\n",
       "      <td>237927</td>\n",
       "      <td>Viburnum carlesii</td>\n",
       "      <td>Lib1_carlesii_D1_BP_001</td>\n",
       "    </tr>\n",
       "    <tr>\n",
       "      <th>3</th>\n",
       "      <td>SRR2895756</td>\n",
       "      <td>2015-11-04 15:50:01</td>\n",
       "      <td>2015-11-04 17:20:18</td>\n",
       "      <td>3719383</td>\n",
       "      <td>338463853</td>\n",
       "      <td>0</td>\n",
       "      <td>91</td>\n",
       "      <td>214</td>\n",
       "      <td>NaN</td>\n",
       "      <td>https://sra-download.ncbi.nlm.nih.gov/sos/sra-...</td>\n",
       "      <td>...</td>\n",
       "      <td>SRP065788</td>\n",
       "      <td>PRJNA299402</td>\n",
       "      <td>NaN</td>\n",
       "      <td>299402</td>\n",
       "      <td>SRS1146183</td>\n",
       "      <td>SAMN04202166</td>\n",
       "      <td>simple</td>\n",
       "      <td>237928</td>\n",
       "      <td>Viburnum cinnamomifolium</td>\n",
       "      <td>Lib1_cinnamomifolium_PWS2105X</td>\n",
       "    </tr>\n",
       "    <tr>\n",
       "      <th>4</th>\n",
       "      <td>SRR2895757</td>\n",
       "      <td>2015-11-04 15:50:01</td>\n",
       "      <td>2015-11-04 17:20:06</td>\n",
       "      <td>3745852</td>\n",
       "      <td>340872532</td>\n",
       "      <td>0</td>\n",
       "      <td>91</td>\n",
       "      <td>213</td>\n",
       "      <td>NaN</td>\n",
       "      <td>https://sra-download.ncbi.nlm.nih.gov/sos/sra-...</td>\n",
       "      <td>...</td>\n",
       "      <td>SRP065788</td>\n",
       "      <td>PRJNA299402</td>\n",
       "      <td>NaN</td>\n",
       "      <td>299402</td>\n",
       "      <td>SRS1146181</td>\n",
       "      <td>SAMN04202167</td>\n",
       "      <td>simple</td>\n",
       "      <td>237929</td>\n",
       "      <td>Viburnum clemensae</td>\n",
       "      <td>Lib1_clemensiae_DRY6_PWS_2135</td>\n",
       "    </tr>\n",
       "  </tbody>\n",
       "</table>\n",
       "<p>5 rows × 30 columns</p>\n",
       "</div>"
      ],
      "text/plain": [
       "          Run          ReleaseDate             LoadDate    spots      bases  \\\n",
       "0  SRR2895732  2015-11-04 15:50:01  2015-11-04 17:19:15  2009174  182834834   \n",
       "1  SRR2895743  2015-11-04 15:50:01  2015-11-04 17:18:35  2452970  223220270   \n",
       "2  SRR2895755  2015-11-04 15:50:01  2015-11-04 17:18:46  4640732  422306612   \n",
       "3  SRR2895756  2015-11-04 15:50:01  2015-11-04 17:20:18  3719383  338463853   \n",
       "4  SRR2895757  2015-11-04 15:50:01  2015-11-04 17:20:06  3745852  340872532   \n",
       "\n",
       "   spots_with_mates  avgLength  size_MB  AssemblyName  \\\n",
       "0                 0         91      116           NaN   \n",
       "1                 0         91      140           NaN   \n",
       "2                 0         91      264           NaN   \n",
       "3                 0         91      214           NaN   \n",
       "4                 0         91      213           NaN   \n",
       "\n",
       "                                       download_path  ...   SRAStudy  \\\n",
       "0  https://sra-download.ncbi.nlm.nih.gov/sos/sra-...  ...  SRP065788   \n",
       "1  https://sra-download.ncbi.nlm.nih.gov/sos/sra-...  ...  SRP065788   \n",
       "2  https://sra-download.ncbi.nlm.nih.gov/sos/sra-...  ...  SRP065788   \n",
       "3  https://sra-download.ncbi.nlm.nih.gov/sos/sra-...  ...  SRP065788   \n",
       "4  https://sra-download.ncbi.nlm.nih.gov/sos/sra-...  ...  SRP065788   \n",
       "\n",
       "    BioProject Study_Pubmed_id ProjectID      Sample     BioSample  \\\n",
       "0  PRJNA299402             NaN    299402  SRS1146158  SAMN04202163   \n",
       "1  PRJNA299402             NaN    299402  SRS1146171  SAMN04202164   \n",
       "2  PRJNA299402             NaN    299402  SRS1146182  SAMN04202165   \n",
       "3  PRJNA299402             NaN    299402  SRS1146183  SAMN04202166   \n",
       "4  PRJNA299402             NaN    299402  SRS1146181  SAMN04202167   \n",
       "\n",
       "   SampleType    TaxID            ScientificName  \\\n",
       "0      simple   224736     Viburnum betulifolium   \n",
       "1      simple  1220044      Viburnum bitchiuense   \n",
       "2      simple   237927         Viburnum carlesii   \n",
       "3      simple   237928  Viburnum cinnamomifolium   \n",
       "4      simple   237929        Viburnum clemensae   \n",
       "\n",
       "                      SampleName  \n",
       "0              Lib1_betulifolium  \n",
       "1      Lib1_bitchiuense_combined  \n",
       "2        Lib1_carlesii_D1_BP_001  \n",
       "3  Lib1_cinnamomifolium_PWS2105X  \n",
       "4  Lib1_clemensiae_DRY6_PWS_2135  \n",
       "\n",
       "[5 rows x 30 columns]"
      ]
     },
     "execution_count": 5,
     "metadata": {},
     "output_type": "execute_result"
    }
   ],
   "source": [
    "# the dataframe has all information about this study\n",
    "stable.head()"
   ]
  },
  {
   "cell_type": "markdown",
   "metadata": {},
   "source": [
    "### File names\n",
    "You can select columns by their index number to use for file names. See below."
   ]
  },
  {
   "cell_type": "code",
   "execution_count": 8,
   "metadata": {},
   "outputs": [
    {
     "data": {
      "text/html": [
       "<div>\n",
       "<style scoped>\n",
       "    .dataframe tbody tr th:only-of-type {\n",
       "        vertical-align: middle;\n",
       "    }\n",
       "\n",
       "    .dataframe tbody tr th {\n",
       "        vertical-align: top;\n",
       "    }\n",
       "\n",
       "    .dataframe thead th {\n",
       "        text-align: right;\n",
       "    }\n",
       "</style>\n",
       "<table border=\"1\" class=\"dataframe\">\n",
       "  <thead>\n",
       "    <tr style=\"text-align: right;\">\n",
       "      <th></th>\n",
       "      <th>Run</th>\n",
       "      <th>ScientificName</th>\n",
       "      <th>SampleName</th>\n",
       "    </tr>\n",
       "  </thead>\n",
       "  <tbody>\n",
       "    <tr>\n",
       "      <th>0</th>\n",
       "      <td>SRR2895732</td>\n",
       "      <td>Viburnum betulifolium</td>\n",
       "      <td>Lib1_betulifolium</td>\n",
       "    </tr>\n",
       "    <tr>\n",
       "      <th>1</th>\n",
       "      <td>SRR2895743</td>\n",
       "      <td>Viburnum bitchiuense</td>\n",
       "      <td>Lib1_bitchiuense_combined</td>\n",
       "    </tr>\n",
       "    <tr>\n",
       "      <th>2</th>\n",
       "      <td>SRR2895755</td>\n",
       "      <td>Viburnum carlesii</td>\n",
       "      <td>Lib1_carlesii_D1_BP_001</td>\n",
       "    </tr>\n",
       "    <tr>\n",
       "      <th>3</th>\n",
       "      <td>SRR2895756</td>\n",
       "      <td>Viburnum cinnamomifolium</td>\n",
       "      <td>Lib1_cinnamomifolium_PWS2105X</td>\n",
       "    </tr>\n",
       "    <tr>\n",
       "      <th>4</th>\n",
       "      <td>SRR2895757</td>\n",
       "      <td>Viburnum clemensae</td>\n",
       "      <td>Lib1_clemensiae_DRY6_PWS_2135</td>\n",
       "    </tr>\n",
       "  </tbody>\n",
       "</table>\n",
       "</div>"
      ],
      "text/plain": [
       "          Run            ScientificName                     SampleName\n",
       "0  SRR2895732     Viburnum betulifolium              Lib1_betulifolium\n",
       "1  SRR2895743      Viburnum bitchiuense      Lib1_bitchiuense_combined\n",
       "2  SRR2895755         Viburnum carlesii        Lib1_carlesii_D1_BP_001\n",
       "3  SRR2895756  Viburnum cinnamomifolium  Lib1_cinnamomifolium_PWS2105X\n",
       "4  SRR2895757        Viburnum clemensae  Lib1_clemensiae_DRY6_PWS_2135"
      ]
     },
     "execution_count": 8,
     "metadata": {},
     "output_type": "execute_result"
    }
   ],
   "source": [
    "stable.iloc[:5, [0, 28, 29]]"
   ]
  },
  {
   "cell_type": "markdown",
   "metadata": {},
   "source": [
    "### Download the data\n",
    "From an sratools object you can fetch just the info, or you can download the files as well. Here we call `.run()` to download the data into a designated workdir. There are arguments for how to name the files according to name fields in the fetch_runinfo table. The accessions argument here is a list of the first five SRR sample IDs in the table above."
   ]
  },
  {
   "cell_type": "code",
   "execution_count": 10,
   "metadata": {},
   "outputs": [
    {
     "data": {
      "text/plain": [
       "0    SRR2895732\n",
       "1    SRR2895743\n",
       "2    SRR2895755\n",
       "3    SRR2895756\n",
       "4    SRR2895757\n",
       "Name: Run, dtype: object"
      ]
     },
     "execution_count": 10,
     "metadata": {},
     "output_type": "execute_result"
    }
   ],
   "source": [
    "# select first 5 samples\n",
    "list_of_srrs = stable.Run[:5]\n",
    "list_of_srrs"
   ]
  },
  {
   "cell_type": "code",
   "execution_count": 11,
   "metadata": {},
   "outputs": [
    {
     "name": "stdout",
     "output_type": "stream",
     "text": [
      "Parallel connection | oud: 4 cores\n",
      "[####################] 100% 0:02:07 | downloading/extracting fastq data \n",
      "\n",
      "5 fastq files downloaded to /home/deren/Documents/ipyrad/newdocs/cookbook/downloaded\n"
     ]
    }
   ],
   "source": [
    "# new sra object\n",
    "sra2 = ipa.sratools(accessions=list_of_srrs, workdir=\"downloaded\")\n",
    "\n",
    "# call download (run) function\n",
    "sra2.run(auto=True, name_fields=(1,30))"
   ]
  },
  {
   "cell_type": "markdown",
   "metadata": {},
   "source": [
    "### Check the data files\n",
    "You can see that the files were named according to the SRR and species name in the table. The intermediate .sra files were removed and only the fastq files were saved. \n"
   ]
  },
  {
   "cell_type": "code",
   "execution_count": 12,
   "metadata": {},
   "outputs": [
    {
     "name": "stdout",
     "output_type": "stream",
     "text": [
      "total 6174784\r\n",
      "-rw-rw-r-- 1 deren deren 1372440058 Aug 17 16:36 SRR2895732_Lib1_betulifolium.fastq\r\n",
      "-rw-rw-r-- 1 deren deren 1422226640 Aug 17 16:36 SRR2895743_Lib1_bitchiuense_combined.fastq\r\n",
      "-rw-rw-r-- 1 deren deren  759216310 Aug 17 16:37 SRR2895755_Lib1_carlesii_D1_BP_001.fastq\r\n",
      "-rw-rw-r-- 1 deren deren 1812215534 Aug 17 16:36 SRR2895756_Lib1_cinnamomifolium_PWS2105X.fastq\r\n",
      "-rw-rw-r-- 1 deren deren  956848184 Aug 17 16:36 SRR2895757_Lib1_clemensiae_DRY6_PWS_2135.fastq\r\n"
     ]
    }
   ],
   "source": [
    "! ls -l downloaded"
   ]
  }
 ],
 "metadata": {
  "kernelspec": {
   "display_name": "Python 3",
   "language": "python",
   "name": "python3"
  },
  "language_info": {
   "codemirror_mode": {
    "name": "ipython",
    "version": 3
   },
   "file_extension": ".py",
   "mimetype": "text/x-python",
   "name": "python",
   "nbconvert_exporter": "python",
   "pygments_lexer": "ipython3",
   "version": "3.7.3"
  }
 },
 "nbformat": 4,
 "nbformat_minor": 2
}
