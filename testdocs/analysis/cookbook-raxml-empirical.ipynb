{
 "cells": [
  {
   "cell_type": "markdown",
   "metadata": {},
   "source": [
    "# <span style=\"color:gray\">ipyrad-analysis toolkit:</span> RAxML\n",
    "\n",
    "RAxML is one of the most popular tools for inferring phylogenetic trees using maximum likelihood. It is fast even for very large data sets. The documentation for raxml is huge, and there are many options. However, I tend to use the same small number of options very frequently, which motivated me to write the `ipa.raxml()` tool to automate the process of generating RAxml command line strings, running them, and accessing the resulting tree files. The simplicity of this tool makes it easy to incorporate into other more complex tools, for example, to infer tress in sliding windows along the genome using the `ipa.treeslider` tool.\n",
    "\n"
   ]
  },
  {
   "cell_type": "markdown",
   "metadata": {},
   "source": [
    "### Required software"
   ]
  },
  {
   "cell_type": "code",
   "execution_count": 1,
   "metadata": {},
   "outputs": [],
   "source": [
    "# conda install ipyrad -c conda-forge -c bioconda\n",
    "# conda install raxml -c conda-forge -c bioconda\n",
    "# conda install ipcoal -c conda-forge"
   ]
  },
  {
   "cell_type": "code",
   "execution_count": 2,
   "metadata": {},
   "outputs": [],
   "source": [
    "import ipyrad.analysis as ipa\n",
    "import toytree\n",
    "import ipcoal"
   ]
  },
  {
   "cell_type": "markdown",
   "metadata": {},
   "source": [
    "### Download an assembled RAD-seq dataset"
   ]
  },
  {
   "cell_type": "code",
   "execution_count": 3,
   "metadata": {},
   "outputs": [
    {
     "name": "stdout",
     "output_type": "stream",
     "text": [
      "successful download: /tmp/oaks.seqs.hdf5\n"
     ]
    }
   ],
   "source": [
    "# path to an HDF5 formatted seqs file\n",
    "SEQSFILE = \"/tmp/oaks.seqs.hdf5\"\n",
    "\n",
    "# download example seqs file if not already present (~500Mb, takes ~5 minutes)\n",
    "URL = \"https://www.dropbox.com/s/c1u89nwuuv8e6ie/virentes_ref.seqs.hdf5?raw=1\"\n",
    "ipa.download(URL, path=SEQSFILE);"
   ]
  },
  {
   "cell_type": "markdown",
   "metadata": {},
   "source": [
    "### Extract an alignment in PHYLIP format\n",
    "By default a phylip file will be produced by ipyrad as an output file during assembly. However, you can have greater flexibility in filtering your data by post-processing with the window extracter tool to write a phylip alignment from the full assembled database file. See the window_extracter tool docs for details. Here I select to extract data from 10 samples and to allow at most 10% missing data. "
   ]
  },
  {
   "cell_type": "code",
   "execution_count": 11,
   "metadata": {},
   "outputs": [
    {
     "data": {
      "text/html": [
       "<div>\n",
       "<style scoped>\n",
       "    .dataframe tbody tr th:only-of-type {\n",
       "        vertical-align: middle;\n",
       "    }\n",
       "\n",
       "    .dataframe tbody tr th {\n",
       "        vertical-align: top;\n",
       "    }\n",
       "\n",
       "    .dataframe thead th {\n",
       "        text-align: right;\n",
       "    }\n",
       "</style>\n",
       "<table border=\"1\" class=\"dataframe\">\n",
       "  <thead>\n",
       "    <tr style=\"text-align: right;\">\n",
       "      <th></th>\n",
       "      <th>scaffold</th>\n",
       "      <th>start</th>\n",
       "      <th>end</th>\n",
       "      <th>sites</th>\n",
       "      <th>snps</th>\n",
       "      <th>missing</th>\n",
       "      <th>samples</th>\n",
       "    </tr>\n",
       "  </thead>\n",
       "  <tbody>\n",
       "    <tr>\n",
       "      <th>prefilter</th>\n",
       "      <td>Qrob_Chr01</td>\n",
       "      <td>0</td>\n",
       "      <td>None</td>\n",
       "      <td>890747</td>\n",
       "      <td>7646</td>\n",
       "      <td>0.46</td>\n",
       "      <td>10</td>\n",
       "    </tr>\n",
       "    <tr>\n",
       "      <th>postfilter</th>\n",
       "      <td>Qrob_Chr01</td>\n",
       "      <td>0</td>\n",
       "      <td>None</td>\n",
       "      <td>289252</td>\n",
       "      <td>4287</td>\n",
       "      <td>0.04</td>\n",
       "      <td>10</td>\n",
       "    </tr>\n",
       "  </tbody>\n",
       "</table>\n",
       "</div>"
      ],
      "text/plain": [
       "              scaffold  start   end   sites  snps  missing  samples\n",
       "prefilter   Qrob_Chr01      0  None  890747  7646     0.46       10\n",
       "postfilter  Qrob_Chr01      0  None  289252  4287     0.04       10"
      ]
     },
     "metadata": {},
     "output_type": "display_data"
    },
    {
     "name": "stdout",
     "output_type": "stream",
     "text": [
      "Wrote data to /tmp/oaks-8taxa.phy\n"
     ]
    }
   ],
   "source": [
    "# the taxa to extract data for\n",
    "INCLUDE = [\n",
    "    'AR', 'BJSB3', 'FLBA140', 'TXGR3', \n",
    "    'MXSA3017', 'FLSA185', 'CRL0030', 'CUCA4', \n",
    "    'FLCK18', 'MXGT4'\n",
    "]\n",
    "\n",
    "# init the extracter tool to pull data from first chromosome\n",
    "wex = ipa.window_extracter(\n",
    "    data=SEQSFILE,\n",
    "    name=\"oaks-8taxa\",\n",
    "    workdir=\"/tmp\",\n",
    "    scaffold_idxs=0,\n",
    "    mincov=0.9,\n",
    "    imap={'include': INCLUDE}\n",
    ")\n",
    "\n",
    "# display stats on alignment\n",
    "display(wex.stats)\n",
    "\n",
    "# write the alignment file\n",
    "wex.run(force=True)"
   ]
  },
  {
   "cell_type": "markdown",
   "metadata": {},
   "source": [
    "### Infer a ML tree"
   ]
  },
  {
   "cell_type": "code",
   "execution_count": 16,
   "metadata": {},
   "outputs": [
    {
     "name": "stdout",
     "output_type": "stream",
     "text": [
      "/home/deren/miniconda3/envs/scratch/bin/raxmlHPC-PTHREADS-AVX2 -f a -T 4 -m GTRGAMMA -n test -w /home/deren/Documents/ipyrad/testdocs/analysis/analysis-raxml -s /tmp/oaks-8taxa.phy -p 54321 -N 20 -x 12345\n",
      "job test finished successfully\n"
     ]
    }
   ],
   "source": [
    "# init raxml object with input data and (optional) parameter options\n",
    "rax = ipa.raxml(data=\"/tmp/oaks-8taxa.phy\", T=4, N=20)\n",
    "\n",
    "# print the raxml command string for prosperity\n",
    "print(rax.command)\n",
    "\n",
    "# run the command, (options: block until finishes; overwrite existing)\n",
    "rax.run(block=True, force=True)"
   ]
  },
  {
   "cell_type": "markdown",
   "metadata": {},
   "source": [
    "### Draw the inferred tree\n",
    "After inferring a tree you can then visualize it in a notebook using `toytree`. "
   ]
  },
  {
   "cell_type": "code",
   "execution_count": 31,
   "metadata": {
    "scrolled": true
   },
   "outputs": [
    {
     "data": {
      "text/plain": [
       "'/tmp/RAxML_bipartitions.oaks-8taxa'"
      ]
     },
     "execution_count": 31,
     "metadata": {},
     "output_type": "execute_result"
    }
   ],
   "source": [
    "# the output file location ({workdir}/RAxML_bipartitions.{name})\n",
    "rax.trees.bipartitions"
   ]
  },
  {
   "cell_type": "code",
   "execution_count": 26,
   "metadata": {},
   "outputs": [
    {
     "data": {
      "text/html": [
       "<div class=\"toyplot\" id=\"t19ee7b69e9cd47da9d24ce051ec89de0\" style=\"text-align:center\"><svg class=\"toyplot-canvas-Canvas\" height=\"275.0px\" id=\"tc53e1af4387b4817af750b0cab89e83b\" preserveAspectRatio=\"xMidYMid meet\" style=\"background-color:transparent;border-color:#292724;border-style:none;border-width:1.0;fill:rgb(16.1%,15.3%,14.1%);fill-opacity:1.0;font-family:Helvetica;font-size:12px;opacity:1.0;stroke:rgb(16.1%,15.3%,14.1%);stroke-opacity:1.0;stroke-width:1.0\" viewBox=\"0 0 290.0 275.0\" width=\"290.0px\" xmlns=\"http://www.w3.org/2000/svg\" xmlns:toyplot=\"http://www.sandia.gov/toyplot\" xmlns:xlink=\"http://www.w3.org/1999/xlink\"><g class=\"toyplot-coordinates-Cartesian\" id=\"t62b40dfa72ec418ab94c05fbbfeb22e3\"><clipPath id=\"tf96b48fc78304de6bfda6a4d1fdee386\"><rect height=\"215.0\" width=\"230.0\" x=\"30.0\" y=\"30.0\"></rect></clipPath><g clip-path=\"url(#tf96b48fc78304de6bfda6a4d1fdee386)\"><g class=\"toytree-mark-Toytree\" id=\"t13a03d5daedc43eab0c3f9898f2b870b\"><g class=\"toytree-Edges\" style=\"fill:none;stroke:rgb(14.9%,14.9%,14.9%);stroke-linecap:round;stroke-opacity:1;stroke-width:2\"><path d=\"M 50.0 95.0 L 50.0 129.0 L 119.6 129.0\" id=\"18,17\"></path><path d=\"M 119.6 129.0 L 119.6 90.8 L 129.0 90.8\" id=\"17,16\"></path><path d=\"M 119.6 129.0 L 119.6 167.2 L 127.0 167.2\" id=\"17,15\"></path><path d=\"M 129.0 90.8 L 129.0 103.5 L 136.7 103.5\" id=\"16,14\"></path><path d=\"M 127.0 167.2 L 127.0 141.7 L 134.6 141.7\" id=\"15,13\"></path><path d=\"M 127.0 167.2 L 127.0 192.7 L 137.5 192.7\" id=\"15,12\"></path><path d=\"M 134.6 141.7 L 134.6 154.5 L 139.6 154.5\" id=\"13,11\"></path><path d=\"M 137.5 192.7 L 137.5 205.5 L 154.4 205.5\" id=\"12,10\"></path><path d=\"M 50.0 95.0 L 50.0 61.0 L 119.6 61.0\" id=\"18,9\"></path><path d=\"M 129.0 90.8 L 129.0 78.0 L 153.8 78.0\" id=\"16,8\"></path><path d=\"M 136.7 103.5 L 136.7 95.0 L 153.5 95.0\" id=\"14,7\"></path><path d=\"M 136.7 103.5 L 136.7 112.0 L 168.1 112.0\" id=\"14,6\"></path><path d=\"M 134.6 141.7 L 134.6 129.0 L 159.0 129.0\" id=\"13,5\"></path><path d=\"M 139.6 154.5 L 139.6 146.0 L 171.1 146.0\" id=\"11,4\"></path><path d=\"M 139.6 154.5 L 139.6 163.0 L 157.9 163.0\" id=\"11,3\"></path><path d=\"M 137.5 192.7 L 137.5 180.0 L 165.1 180.0\" id=\"12,2\"></path><path d=\"M 154.4 205.5 L 154.4 197.0 L 171.9 197.0\" id=\"10,1\"></path><path d=\"M 154.4 205.5 L 154.4 214.0 L 168.6 214.0\" id=\"10,0\"></path></g><g class=\"toytree-AlignEdges\" style=\"stroke:rgb(66.3%,66.3%,66.3%);stroke-dasharray:2, 4;stroke-linecap:round;stroke-opacity:1.0;stroke-width:2\"><path d=\"M 171.9 214.0 L 168.6 214.0\"></path><path d=\"M 171.9 197.0 L 171.9 197.0\"></path><path d=\"M 171.9 180.0 L 165.1 180.0\"></path><path d=\"M 171.9 163.0 L 157.9 163.0\"></path><path d=\"M 171.9 146.0 L 171.1 146.0\"></path><path d=\"M 171.9 129.0 L 159.0 129.0\"></path><path d=\"M 171.9 112.0 L 168.1 112.0\"></path><path d=\"M 171.9 95.0 L 153.5 95.0\"></path><path d=\"M 171.9 78.0 L 153.8 78.0\"></path><path d=\"M 171.9 61.0 L 119.6 61.0\"></path></g><g class=\"toytree-Nodes\" style=\"fill:rgb(40%,76.1%,64.7%);fill-opacity:1.0;stroke:None;stroke-width:1\"><g id=\"node-0\" transform=\"translate(168.608,213.986)\"><circle r=\"0.0\"></circle></g><g id=\"node-1\" transform=\"translate(171.870,196.989)\"><circle r=\"0.0\"></circle></g><g id=\"node-2\" transform=\"translate(165.113,179.992)\"><circle r=\"0.0\"></circle></g><g id=\"node-3\" transform=\"translate(157.868,162.995)\"><circle r=\"0.0\"></circle></g><g id=\"node-4\" transform=\"translate(171.147,145.998)\"><circle r=\"0.0\"></circle></g><g id=\"node-5\" transform=\"translate(158.988,129.002)\"><circle r=\"0.0\"></circle></g><g id=\"node-6\" transform=\"translate(168.087,112.005)\"><circle r=\"0.0\"></circle></g><g id=\"node-7\" transform=\"translate(153.481,95.008)\"><circle r=\"0.0\"></circle></g><g id=\"node-8\" transform=\"translate(153.780,78.011)\"><circle r=\"0.0\"></circle></g><g id=\"node-9\" transform=\"translate(119.643,61.014)\"><circle r=\"0.0\"></circle></g><g id=\"node-10\" transform=\"translate(154.427,205.488)\"><circle r=\"9.0\"></circle></g><g id=\"node-11\" transform=\"translate(139.613,154.497)\"><circle r=\"9.0\"></circle></g><g id=\"node-12\" transform=\"translate(137.543,192.740)\"><circle r=\"9.0\"></circle></g><g id=\"node-13\" transform=\"translate(134.613,141.749)\"><circle r=\"9.0\"></circle></g><g id=\"node-14\" transform=\"translate(136.747,103.506)\"><circle r=\"9.0\"></circle></g><g id=\"node-15\" transform=\"translate(126.970,167.245)\"><circle r=\"9.0\"></circle></g><g id=\"node-16\" transform=\"translate(129.016,90.759)\"><circle r=\"9.0\"></circle></g><g id=\"node-17\" transform=\"translate(119.643,129.002)\"><circle r=\"9.0\"></circle></g><g id=\"node-18\" transform=\"translate(50.000,95.008)\"><circle r=\"0.0\"></circle></g></g><g class=\"toytree-NodeLabels\" style=\"fill:rgb(14.9%,14.9%,14.9%);fill-opacity:1.0;font-size:9px;stroke:none\"><g transform=\"translate(146.92,207.79)\"><text>100</text></g><g transform=\"translate(134.61,156.80)\"><text>55</text></g><g transform=\"translate(130.04,195.04)\"><text>100</text></g><g transform=\"translate(127.11,144.05)\"><text>100</text></g><g transform=\"translate(131.74,105.81)\"><text>95</text></g><g transform=\"translate(119.46,169.54)\"><text>100</text></g><g transform=\"translate(121.51,93.06)\"><text>100</text></g><g transform=\"translate(112.14,131.30)\"><text>100</text></g></g><g class=\"toytree-TipLabels\" style=\"fill:rgb(14.9%,14.9%,14.9%);fill-opacity:1.0;font-family:helvetica;font-size:11px;font-weight:normal;stroke:none;white-space:pre\"><g transform=\"translate(171.87,213.99)rotate(0)\"><text style=\"\" x=\"15.00\" y=\"2.81\">CRL0030</text></g><g transform=\"translate(171.87,196.99)rotate(0)\"><text style=\"\" x=\"15.00\" y=\"2.81\">MXSA3017</text></g><g transform=\"translate(171.87,179.99)rotate(0)\"><text style=\"\" x=\"15.00\" y=\"2.81\">CUCA4</text></g><g transform=\"translate(171.87,163.00)rotate(0)\"><text style=\"\" x=\"15.00\" y=\"2.81\">FLBA140</text></g><g transform=\"translate(171.87,146.00)rotate(0)\"><text style=\"\" x=\"15.00\" y=\"2.81\">FLSA185</text></g><g transform=\"translate(171.87,129.00)rotate(0)\"><text style=\"\" x=\"15.00\" y=\"2.81\">FLCK18</text></g><g transform=\"translate(171.87,112.00)rotate(0)\"><text style=\"\" x=\"15.00\" y=\"2.81\">BJSB3</text></g><g transform=\"translate(171.87,95.01)rotate(0)\"><text style=\"\" x=\"15.00\" y=\"2.81\">MXGT4</text></g><g transform=\"translate(171.87,78.01)rotate(0)\"><text style=\"\" x=\"15.00\" y=\"2.81\">TXGR3</text></g><g transform=\"translate(171.87,61.01)rotate(0)\"><text style=\"\" x=\"15.00\" y=\"2.81\">AR</text></g></g></g></g></g></svg><div class=\"toyplot-behavior\"><script>(function()\n",
       "{\n",
       "var modules={};\n",
       "})();</script></div></div>"
      ]
     },
     "metadata": {},
     "output_type": "display_data"
    }
   ],
   "source": [
    "# load from the .trees attribute of the raxml object, or from the saved tree file\n",
    "tre = toytree.tree(rax.trees.bipartitions)\n",
    "\n",
    "# draw the tree\n",
    "rtre = tre.root(\"AR\")\n",
    "rtre.draw(tip_labels_align=True, node_sizes=18, node_labels=\"support\");"
   ]
  },
  {
   "cell_type": "markdown",
   "metadata": {},
   "source": [
    "### Cookbook\n",
    "\n",
    "Most frequently used: perform 100 rapid bootstrap analyses followed by 10 rapid hill-climbing ML searches from random starting trees under the GTRGAMMA substitution model. "
   ]
  },
  {
   "cell_type": "code",
   "execution_count": 52,
   "metadata": {},
   "outputs": [
    {
     "name": "stdout",
     "output_type": "stream",
     "text": [
      "/home/deren/miniconda3/envs/scratch/bin/raxmlHPC-PTHREADS-AVX2 -f a -T 8 -m GTRGAMMA -n oaks-8taxa-a -w /tmp -s /tmp/oaks-8taxa.phy -p 54321 -N 50 -x 12345\n",
      "job oaks-8taxa-a finished successfully\n"
     ]
    }
   ],
   "source": [
    "rax = ipa.raxml(\n",
    "    data=\"/tmp/oaks-8taxa.phy\",\n",
    "    name=\"oaks-8taxa-a\",\n",
    "    workdir=\"/tmp\",\n",
    "    m=\"GTRGAMMA\",\n",
    "    T=8,\n",
    "    f=\"a\",\n",
    "    N=50,\n",
    ")\n",
    "print(rax.command)\n",
    "rax.run(force=True)"
   ]
  },
  {
   "cell_type": "markdown",
   "metadata": {},
   "source": [
    "Another common option: Perform N rapid hill-climbing ML analyses from random starting trees, with no bootstrap replicates. Be sure to use the `BestTree` output from this analysis since it does not produce a `bipartitions` output file. "
   ]
  },
  {
   "cell_type": "code",
   "execution_count": 53,
   "metadata": {},
   "outputs": [
    {
     "name": "stdout",
     "output_type": "stream",
     "text": [
      "/home/deren/miniconda3/envs/scratch/bin/raxmlHPC-PTHREADS-AVX2 -f d -T 8 -m GTRGAMMA -n oaks-8taxa-d -w /tmp -s /tmp/oaks-8taxa.phy -p 54321 -N 10\n",
      "job oaks-8taxa-d finished successfully\n"
     ]
    }
   ],
   "source": [
    "rax = ipa.raxml(\n",
    "    data=\"/tmp/oaks-8taxa.phy\",\n",
    "    name=\"oaks-8taxa-d\",\n",
    "    workdir=\"/tmp\",\n",
    "    m=\"GTRGAMMA\",\n",
    "    T=8,\n",
    "    f=\"d\",\n",
    "    N=10,\n",
    "    x=None,\n",
    ")\n",
    "print(rax.command)\n",
    "rax.run(force=True)"
   ]
  },
  {
   "cell_type": "markdown",
   "metadata": {},
   "source": [
    "### Check your files\n",
    "The .info and related log files will be stored in the `workdir`. Be sure to look at these for further details of your analyses. "
   ]
  },
  {
   "cell_type": "code",
   "execution_count": 55,
   "metadata": {
    "scrolled": false
   },
   "outputs": [
    {
     "name": "stdout",
     "output_type": "stream",
     "text": [
      "\r\n",
      "\r\n",
      "Using BFGS method to optimize GTR rate parameters, to disable this specify \"--no-bfgs\" \r\n",
      "\r\n",
      "\r\n",
      "\r\n",
      "This is RAxML version 8.2.12 released by Alexandros Stamatakis on May 2018.\r\n",
      "\r\n",
      "With greatly appreciated code contributions by:\r\n",
      "Andre Aberer      (HITS)\r\n",
      "Simon Berger      (HITS)\r\n",
      "Alexey Kozlov     (HITS)\r\n",
      "Kassian Kobert    (HITS)\r\n",
      "David Dao         (KIT and HITS)\r\n",
      "Sarah Lutteropp   (KIT and HITS)\r\n",
      "Nick Pattengale   (Sandia)\r\n",
      "Wayne Pfeiffer    (SDSC)\r\n",
      "Akifumi S. Tanabe (NRIFS)\r\n",
      "Charlie Taylor    (UF)\r\n",
      "\r\n",
      "\r\n",
      "Alignment has 5244 distinct alignment patterns\r\n",
      "\r\n",
      "Proportion of gaps and completely undetermined characters in this alignment: 3.71%\r\n",
      "\r\n",
      "RAxML rapid bootstrapping and subsequent ML search\r\n",
      "\r\n",
      "Using 1 distinct models/data partitions with joint branch length optimization\r\n",
      "\r\n",
      "\r\n",
      "\r\n",
      "Executing 50 rapid bootstrap inferences and thereafter a thorough ML search \r\n",
      "\r\n",
      "All free model parameters will be estimated by RAxML\r\n",
      "GAMMA model of rate heterogeneity, ML estimate of alpha-parameter\r\n",
      "\r\n",
      "GAMMA Model parameters will be estimated up to an accuracy of 0.1000000000 Log Likelihood units\r\n",
      "\r\n",
      "Partition: 0\r\n",
      "Alignment Patterns: 5244\r\n",
      "Name: No Name Provided\r\n",
      "DataType: DNA\r\n",
      "Substitution Matrix: GTR\r\n",
      "\r\n",
      "\r\n",
      "\r\n",
      "\r\n",
      "RAxML was called as follows:\r\n",
      "\r\n",
      "/home/deren/miniconda3/envs/scratch/bin/raxmlHPC-PTHREADS-AVX2 -f a -T 8 -m GTRGAMMA -n oaks-8taxa-a -w /tmp -s /tmp/oaks-8taxa.phy -p 54321 -N 50 -x 12345 \r\n",
      "\r\n",
      "\r\n",
      "\r\n",
      "Time for BS model parameter optimization 0.057418\r\n",
      "Bootstrap[0]: Time 0.221445 seconds, bootstrap likelihood -463161.123935, best rearrangement setting 13\r\n",
      "Bootstrap[1]: Time 0.144804 seconds, bootstrap likelihood -463910.545198, best rearrangement setting 13\r\n",
      "Bootstrap[2]: Time 0.173540 seconds, bootstrap likelihood -465379.481285, best rearrangement setting 12\r\n",
      "Bootstrap[3]: Time 0.143784 seconds, bootstrap likelihood -463735.165794, best rearrangement setting 15\r\n",
      "Bootstrap[4]: Time 0.074970 seconds, bootstrap likelihood -463543.799791, best rearrangement setting 10\r\n",
      "Bootstrap[5]: Time 0.144729 seconds, bootstrap likelihood -465037.404671, best rearrangement setting 10\r\n",
      "Bootstrap[6]: Time 0.175645 seconds, bootstrap likelihood -463941.438736, best rearrangement setting 6\r\n",
      "Bootstrap[7]: Time 0.115638 seconds, bootstrap likelihood -464803.507689, best rearrangement setting 14\r\n",
      "Bootstrap[8]: Time 0.079270 seconds, bootstrap likelihood -464700.048400, best rearrangement setting 5\r\n",
      "Bootstrap[9]: Time 0.139371 seconds, bootstrap likelihood -464874.572176, best rearrangement setting 7\r\n",
      "Bootstrap[10]: Time 0.144052 seconds, bootstrap likelihood -463390.854602, best rearrangement setting 7\r\n",
      "Bootstrap[11]: Time 0.148936 seconds, bootstrap likelihood -464158.988838, best rearrangement setting 5\r\n",
      "Bootstrap[12]: Time 0.139221 seconds, bootstrap likelihood -464238.645119, best rearrangement setting 8\r\n",
      "Bootstrap[13]: Time 0.075434 seconds, bootstrap likelihood -464285.757852, best rearrangement setting 7\r\n",
      "Bootstrap[14]: Time 0.202842 seconds, bootstrap likelihood -463409.893502, best rearrangement setting 12\r\n",
      "Bootstrap[15]: Time 0.181867 seconds, bootstrap likelihood -463433.582633, best rearrangement setting 15\r\n",
      "Bootstrap[16]: Time 0.145580 seconds, bootstrap likelihood -464954.056909, best rearrangement setting 12\r\n",
      "Bootstrap[17]: Time 0.138309 seconds, bootstrap likelihood -464680.641632, best rearrangement setting 12\r\n",
      "Bootstrap[18]: Time 0.148322 seconds, bootstrap likelihood -463602.486813, best rearrangement setting 5\r\n",
      "Bootstrap[19]: Time 0.145565 seconds, bootstrap likelihood -464745.171199, best rearrangement setting 8\r\n",
      "Bootstrap[20]: Time 0.148538 seconds, bootstrap likelihood -464305.581271, best rearrangement setting 10\r\n",
      "Bootstrap[21]: Time 0.164471 seconds, bootstrap likelihood -463554.110026, best rearrangement setting 6\r\n",
      "Bootstrap[22]: Time 0.149229 seconds, bootstrap likelihood -464876.590095, best rearrangement setting 5\r\n",
      "Bootstrap[23]: Time 0.077619 seconds, bootstrap likelihood -464260.364593, best rearrangement setting 7\r\n",
      "Bootstrap[24]: Time 0.142718 seconds, bootstrap likelihood -462730.235290, best rearrangement setting 8\r\n",
      "Bootstrap[25]: Time 0.148148 seconds, bootstrap likelihood -464315.259253, best rearrangement setting 6\r\n",
      "Bootstrap[26]: Time 0.076348 seconds, bootstrap likelihood -463585.891829, best rearrangement setting 12\r\n",
      "Bootstrap[27]: Time 0.141447 seconds, bootstrap likelihood -464115.890179, best rearrangement setting 10\r\n",
      "Bootstrap[28]: Time 0.091051 seconds, bootstrap likelihood -464193.246696, best rearrangement setting 11\r\n",
      "Bootstrap[29]: Time 0.172327 seconds, bootstrap likelihood -464778.632676, best rearrangement setting 12\r\n",
      "Bootstrap[30]: Time 0.092004 seconds, bootstrap likelihood -462851.221340, best rearrangement setting 15\r\n",
      "Bootstrap[31]: Time 0.198773 seconds, bootstrap likelihood -465765.240541, best rearrangement setting 15\r\n",
      "Bootstrap[32]: Time 0.166866 seconds, bootstrap likelihood -465323.814769, best rearrangement setting 6\r\n",
      "Bootstrap[33]: Time 0.139612 seconds, bootstrap likelihood -463463.089435, best rearrangement setting 15\r\n",
      "Bootstrap[34]: Time 0.177802 seconds, bootstrap likelihood -463912.117672, best rearrangement setting 11\r\n",
      "Bootstrap[35]: Time 0.141900 seconds, bootstrap likelihood -464067.130510, best rearrangement setting 8\r\n",
      "Bootstrap[36]: Time 0.162015 seconds, bootstrap likelihood -464794.784965, best rearrangement setting 9\r\n",
      "Bootstrap[37]: Time 0.078501 seconds, bootstrap likelihood -464012.395269, best rearrangement setting 11\r\n",
      "Bootstrap[38]: Time 0.150013 seconds, bootstrap likelihood -464320.431180, best rearrangement setting 8\r\n",
      "Bootstrap[39]: Time 0.143887 seconds, bootstrap likelihood -464634.549523, best rearrangement setting 13\r\n",
      "Bootstrap[40]: Time 0.144597 seconds, bootstrap likelihood -463662.017164, best rearrangement setting 13\r\n",
      "Bootstrap[41]: Time 0.148209 seconds, bootstrap likelihood -464550.752007, best rearrangement setting 10\r\n",
      "Bootstrap[42]: Time 0.149576 seconds, bootstrap likelihood -464096.094592, best rearrangement setting 5\r\n",
      "Bootstrap[43]: Time 0.176806 seconds, bootstrap likelihood -464273.771596, best rearrangement setting 14\r\n",
      "Bootstrap[44]: Time 0.075454 seconds, bootstrap likelihood -464266.901865, best rearrangement setting 10\r\n",
      "Bootstrap[45]: Time 0.137747 seconds, bootstrap likelihood -463986.178269, best rearrangement setting 15\r\n",
      "Bootstrap[46]: Time 0.134039 seconds, bootstrap likelihood -463269.722422, best rearrangement setting 14\r\n",
      "Bootstrap[47]: Time 0.155272 seconds, bootstrap likelihood -464169.117879, best rearrangement setting 8\r\n",
      "Bootstrap[48]: Time 0.140488 seconds, bootstrap likelihood -464583.547334, best rearrangement setting 6\r\n",
      "Bootstrap[49]: Time 0.137529 seconds, bootstrap likelihood -464718.491472, best rearrangement setting 7\r\n",
      "\r\n",
      "\r\n",
      "Overall Time for 50 Rapid Bootstraps 7.198293 seconds\r\n",
      "Average Time per Rapid Bootstrap 0.143966 seconds\r\n",
      "\r\n",
      "Starting ML Search ...\r\n",
      "\r\n",
      "Fast ML optimization finished\r\n",
      "\r\n",
      "Fast ML search Time: 3.996678 seconds\r\n",
      "\r\n",
      "Slow ML Search 0 Likelihood: -464232.398591\r\n",
      "Slow ML Search 1 Likelihood: -464232.398604\r\n",
      "Slow ML Search 2 Likelihood: -464232.398605\r\n",
      "Slow ML Search 3 Likelihood: -464232.398605\r\n",
      "Slow ML Search 4 Likelihood: -464232.398578\r\n",
      "Slow ML Search 5 Likelihood: -464232.398578\r\n",
      "Slow ML Search 6 Likelihood: -464232.398604\r\n",
      "Slow ML Search 7 Likelihood: -464232.398591\r\n",
      "Slow ML Search 8 Likelihood: -464232.398587\r\n",
      "Slow ML Search 9 Likelihood: -464232.398587\r\n",
      "Slow ML optimization finished\r\n",
      "\r\n",
      "Slow ML search Time: 2.877416 seconds\r\n",
      "Thorough ML search Time: 0.438066 seconds\r\n",
      "\r\n",
      "Final ML Optimization Likelihood: -464232.398494\r\n",
      "\r\n",
      "Model Information:\r\n",
      "\r\n",
      "Model Parameters of Partition 0, Name: No Name Provided, Type of Data: DNA\r\n",
      "alpha: 0.020000\r\n",
      "Tree-Length: 0.036235\r\n",
      "rate A <-> C: 1.081337\r\n",
      "rate A <-> G: 3.094603\r\n",
      "rate A <-> T: 0.767878\r\n",
      "rate C <-> G: 1.113257\r\n",
      "rate C <-> T: 2.885043\r\n",
      "rate G <-> T: 1.000000\r\n",
      "\r\n",
      "freq pi(A): 0.305820\r\n",
      "freq pi(C): 0.196335\r\n",
      "freq pi(G): 0.195277\r\n",
      "freq pi(T): 0.302568\r\n",
      "\r\n",
      "\r\n",
      "ML search took 7.312973 secs or 0.002031 hours\r\n",
      "\r\n",
      "Combined Bootstrap and ML search took 14.511292 secs or 0.004031 hours\r\n",
      "\r\n",
      "Drawing Bootstrap Support Values on best-scoring ML tree ...\r\n",
      "\r\n",
      "\r\n",
      "\r\n",
      "Found 1 tree in File /tmp/RAxML_bestTree.oaks-8taxa-a\r\n",
      "\r\n",
      "\r\n",
      "\r\n",
      "Found 1 tree in File /tmp/RAxML_bestTree.oaks-8taxa-a\r\n",
      "\r\n",
      "Program execution info written to /tmp/RAxML_info.oaks-8taxa-a\r\n",
      "All 50 bootstrapped trees written to: /tmp/RAxML_bootstrap.oaks-8taxa-a\r\n",
      "\r\n",
      "Best-scoring ML tree written to: /tmp/RAxML_bestTree.oaks-8taxa-a\r\n",
      "\r\n",
      "Best-scoring ML tree with support values written to: /tmp/RAxML_bipartitions.oaks-8taxa-a\r\n",
      "\r\n",
      "Best-scoring ML tree with support values as branch labels written to: /tmp/RAxML_bipartitionsBranchLabels.oaks-8taxa-a\r\n",
      "\r\n",
      "Overall execution time for full ML analysis: 14.512142 secs or 0.004031 hours or 0.000168 days\r\n",
      "\r\n"
     ]
    }
   ],
   "source": [
    "! cat /tmp/RAxML_info.oaks-8taxa-a"
   ]
  }
 ],
 "metadata": {
  "kernelspec": {
   "display_name": "Python 3",
   "language": "python",
   "name": "python3"
  },
  "language_info": {
   "codemirror_mode": {
    "name": "ipython",
    "version": 3
   },
   "file_extension": ".py",
   "mimetype": "text/x-python",
   "name": "python",
   "nbconvert_exporter": "python",
   "pygments_lexer": "ipython3",
   "version": "3.7.9"
  }
 },
 "nbformat": 4,
 "nbformat_minor": 2
}
